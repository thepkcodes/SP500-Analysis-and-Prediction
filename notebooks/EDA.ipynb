{
 "cells": [
  {
   "cell_type": "markdown",
   "id": "0132b61a",
   "metadata": {},
   "source": [
    "# End-to-End EDA: Stock, Macro, and Sentiment Data\n",
    "\n",
    "This notebook performs an exploratory data analysis (EDA) for stock price prediction using historical stock prices, macroeconomic indicators, and financial news sentiment data. The workflow includes data cleaning, visualization, and merging of datasets for deeper insights."
   ]
  },
  {
   "cell_type": "markdown",
   "id": "f90d47bd",
   "metadata": {},
   "source": [
    "## 1. Import Required Libraries\n",
    "\n",
    "We begin by importing the necessary libraries for data analysis and visualization."
   ]
  },
  {
   "cell_type": "code",
   "execution_count": 1,
   "id": "bba2c734",
   "metadata": {},
   "outputs": [],
   "source": [
    "import pandas as pd\n",
    "import numpy as np\n",
    "import matplotlib.pyplot as plt\n",
    "import seaborn as sns\n",
    "\n",
    "# For better plot aesthetics\n",
    "plt.style.use('seaborn-v0_8-darkgrid')\n",
    "import warnings\n",
    "warnings.filterwarnings('ignore')"
   ]
  },
  {
   "cell_type": "markdown",
   "id": "c38ff73d",
   "metadata": {},
   "source": [
    "## 2. Load Datasets\n",
    "\n",
    "Load the following CSV files into pandas DataFrames:\n",
    "- `all_stocks_5y_data.csv`: Historical stock prices\n",
    "- `macro_data.csv`: Macroeconomic indicators\n",
    "- `stock_news_sentiment.csv`: Financial news sentiment"
   ]
  },
  {
   "cell_type": "code",
   "execution_count": 3,
   "id": "9b028e0f",
   "metadata": {},
   "outputs": [
    {
     "ename": "FileNotFoundError",
     "evalue": "[Errno 2] No such file or directory: '../data/raw/all_stocks_5y_data.csv'",
     "output_type": "error",
     "traceback": [
      "\u001b[31m---------------------------------------------------------------------------\u001b[39m",
      "\u001b[31mFileNotFoundError\u001b[39m                         Traceback (most recent call last)",
      "\u001b[36mCell\u001b[39m\u001b[36m \u001b[39m\u001b[32mIn[3]\u001b[39m\u001b[32m, line 7\u001b[39m\n\u001b[32m      4\u001b[39m sentiment_fp = \u001b[33m'\u001b[39m\u001b[33m../data/raw/stock_news_sentiment.csv\u001b[39m\u001b[33m'\u001b[39m\n\u001b[32m      6\u001b[39m \u001b[38;5;66;03m# Load datasets\u001b[39;00m\n\u001b[32m----> \u001b[39m\u001b[32m7\u001b[39m stocks_df = \u001b[43mpd\u001b[49m\u001b[43m.\u001b[49m\u001b[43mread_csv\u001b[49m\u001b[43m(\u001b[49m\u001b[43mstock_fp\u001b[49m\u001b[43m)\u001b[49m\n\u001b[32m      8\u001b[39m macro_df = pd.read_csv(macro_fp)\n\u001b[32m      9\u001b[39m sentiment_df = pd.read_csv(sentiment_fp)\n",
      "\u001b[36mFile \u001b[39m\u001b[32mc:\\Users\\punit\\Capstone Project\\SP500-Analysis-and-Prediction\\.venv\\Lib\\site-packages\\pandas\\io\\parsers\\readers.py:1026\u001b[39m, in \u001b[36mread_csv\u001b[39m\u001b[34m(filepath_or_buffer, sep, delimiter, header, names, index_col, usecols, dtype, engine, converters, true_values, false_values, skipinitialspace, skiprows, skipfooter, nrows, na_values, keep_default_na, na_filter, verbose, skip_blank_lines, parse_dates, infer_datetime_format, keep_date_col, date_parser, date_format, dayfirst, cache_dates, iterator, chunksize, compression, thousands, decimal, lineterminator, quotechar, quoting, doublequote, escapechar, comment, encoding, encoding_errors, dialect, on_bad_lines, delim_whitespace, low_memory, memory_map, float_precision, storage_options, dtype_backend)\u001b[39m\n\u001b[32m   1013\u001b[39m kwds_defaults = _refine_defaults_read(\n\u001b[32m   1014\u001b[39m     dialect,\n\u001b[32m   1015\u001b[39m     delimiter,\n\u001b[32m   (...)\u001b[39m\u001b[32m   1022\u001b[39m     dtype_backend=dtype_backend,\n\u001b[32m   1023\u001b[39m )\n\u001b[32m   1024\u001b[39m kwds.update(kwds_defaults)\n\u001b[32m-> \u001b[39m\u001b[32m1026\u001b[39m \u001b[38;5;28;01mreturn\u001b[39;00m \u001b[43m_read\u001b[49m\u001b[43m(\u001b[49m\u001b[43mfilepath_or_buffer\u001b[49m\u001b[43m,\u001b[49m\u001b[43m \u001b[49m\u001b[43mkwds\u001b[49m\u001b[43m)\u001b[49m\n",
      "\u001b[36mFile \u001b[39m\u001b[32mc:\\Users\\punit\\Capstone Project\\SP500-Analysis-and-Prediction\\.venv\\Lib\\site-packages\\pandas\\io\\parsers\\readers.py:620\u001b[39m, in \u001b[36m_read\u001b[39m\u001b[34m(filepath_or_buffer, kwds)\u001b[39m\n\u001b[32m    617\u001b[39m _validate_names(kwds.get(\u001b[33m\"\u001b[39m\u001b[33mnames\u001b[39m\u001b[33m\"\u001b[39m, \u001b[38;5;28;01mNone\u001b[39;00m))\n\u001b[32m    619\u001b[39m \u001b[38;5;66;03m# Create the parser.\u001b[39;00m\n\u001b[32m--> \u001b[39m\u001b[32m620\u001b[39m parser = \u001b[43mTextFileReader\u001b[49m\u001b[43m(\u001b[49m\u001b[43mfilepath_or_buffer\u001b[49m\u001b[43m,\u001b[49m\u001b[43m \u001b[49m\u001b[43m*\u001b[49m\u001b[43m*\u001b[49m\u001b[43mkwds\u001b[49m\u001b[43m)\u001b[49m\n\u001b[32m    622\u001b[39m \u001b[38;5;28;01mif\u001b[39;00m chunksize \u001b[38;5;129;01mor\u001b[39;00m iterator:\n\u001b[32m    623\u001b[39m     \u001b[38;5;28;01mreturn\u001b[39;00m parser\n",
      "\u001b[36mFile \u001b[39m\u001b[32mc:\\Users\\punit\\Capstone Project\\SP500-Analysis-and-Prediction\\.venv\\Lib\\site-packages\\pandas\\io\\parsers\\readers.py:1620\u001b[39m, in \u001b[36mTextFileReader.__init__\u001b[39m\u001b[34m(self, f, engine, **kwds)\u001b[39m\n\u001b[32m   1617\u001b[39m     \u001b[38;5;28mself\u001b[39m.options[\u001b[33m\"\u001b[39m\u001b[33mhas_index_names\u001b[39m\u001b[33m\"\u001b[39m] = kwds[\u001b[33m\"\u001b[39m\u001b[33mhas_index_names\u001b[39m\u001b[33m\"\u001b[39m]\n\u001b[32m   1619\u001b[39m \u001b[38;5;28mself\u001b[39m.handles: IOHandles | \u001b[38;5;28;01mNone\u001b[39;00m = \u001b[38;5;28;01mNone\u001b[39;00m\n\u001b[32m-> \u001b[39m\u001b[32m1620\u001b[39m \u001b[38;5;28mself\u001b[39m._engine = \u001b[38;5;28;43mself\u001b[39;49m\u001b[43m.\u001b[49m\u001b[43m_make_engine\u001b[49m\u001b[43m(\u001b[49m\u001b[43mf\u001b[49m\u001b[43m,\u001b[49m\u001b[43m \u001b[49m\u001b[38;5;28;43mself\u001b[39;49m\u001b[43m.\u001b[49m\u001b[43mengine\u001b[49m\u001b[43m)\u001b[49m\n",
      "\u001b[36mFile \u001b[39m\u001b[32mc:\\Users\\punit\\Capstone Project\\SP500-Analysis-and-Prediction\\.venv\\Lib\\site-packages\\pandas\\io\\parsers\\readers.py:1880\u001b[39m, in \u001b[36mTextFileReader._make_engine\u001b[39m\u001b[34m(self, f, engine)\u001b[39m\n\u001b[32m   1878\u001b[39m     \u001b[38;5;28;01mif\u001b[39;00m \u001b[33m\"\u001b[39m\u001b[33mb\u001b[39m\u001b[33m\"\u001b[39m \u001b[38;5;129;01mnot\u001b[39;00m \u001b[38;5;129;01min\u001b[39;00m mode:\n\u001b[32m   1879\u001b[39m         mode += \u001b[33m\"\u001b[39m\u001b[33mb\u001b[39m\u001b[33m\"\u001b[39m\n\u001b[32m-> \u001b[39m\u001b[32m1880\u001b[39m \u001b[38;5;28mself\u001b[39m.handles = \u001b[43mget_handle\u001b[49m\u001b[43m(\u001b[49m\n\u001b[32m   1881\u001b[39m \u001b[43m    \u001b[49m\u001b[43mf\u001b[49m\u001b[43m,\u001b[49m\n\u001b[32m   1882\u001b[39m \u001b[43m    \u001b[49m\u001b[43mmode\u001b[49m\u001b[43m,\u001b[49m\n\u001b[32m   1883\u001b[39m \u001b[43m    \u001b[49m\u001b[43mencoding\u001b[49m\u001b[43m=\u001b[49m\u001b[38;5;28;43mself\u001b[39;49m\u001b[43m.\u001b[49m\u001b[43moptions\u001b[49m\u001b[43m.\u001b[49m\u001b[43mget\u001b[49m\u001b[43m(\u001b[49m\u001b[33;43m\"\u001b[39;49m\u001b[33;43mencoding\u001b[39;49m\u001b[33;43m\"\u001b[39;49m\u001b[43m,\u001b[49m\u001b[43m \u001b[49m\u001b[38;5;28;43;01mNone\u001b[39;49;00m\u001b[43m)\u001b[49m\u001b[43m,\u001b[49m\n\u001b[32m   1884\u001b[39m \u001b[43m    \u001b[49m\u001b[43mcompression\u001b[49m\u001b[43m=\u001b[49m\u001b[38;5;28;43mself\u001b[39;49m\u001b[43m.\u001b[49m\u001b[43moptions\u001b[49m\u001b[43m.\u001b[49m\u001b[43mget\u001b[49m\u001b[43m(\u001b[49m\u001b[33;43m\"\u001b[39;49m\u001b[33;43mcompression\u001b[39;49m\u001b[33;43m\"\u001b[39;49m\u001b[43m,\u001b[49m\u001b[43m \u001b[49m\u001b[38;5;28;43;01mNone\u001b[39;49;00m\u001b[43m)\u001b[49m\u001b[43m,\u001b[49m\n\u001b[32m   1885\u001b[39m \u001b[43m    \u001b[49m\u001b[43mmemory_map\u001b[49m\u001b[43m=\u001b[49m\u001b[38;5;28;43mself\u001b[39;49m\u001b[43m.\u001b[49m\u001b[43moptions\u001b[49m\u001b[43m.\u001b[49m\u001b[43mget\u001b[49m\u001b[43m(\u001b[49m\u001b[33;43m\"\u001b[39;49m\u001b[33;43mmemory_map\u001b[39;49m\u001b[33;43m\"\u001b[39;49m\u001b[43m,\u001b[49m\u001b[43m \u001b[49m\u001b[38;5;28;43;01mFalse\u001b[39;49;00m\u001b[43m)\u001b[49m\u001b[43m,\u001b[49m\n\u001b[32m   1886\u001b[39m \u001b[43m    \u001b[49m\u001b[43mis_text\u001b[49m\u001b[43m=\u001b[49m\u001b[43mis_text\u001b[49m\u001b[43m,\u001b[49m\n\u001b[32m   1887\u001b[39m \u001b[43m    \u001b[49m\u001b[43merrors\u001b[49m\u001b[43m=\u001b[49m\u001b[38;5;28;43mself\u001b[39;49m\u001b[43m.\u001b[49m\u001b[43moptions\u001b[49m\u001b[43m.\u001b[49m\u001b[43mget\u001b[49m\u001b[43m(\u001b[49m\u001b[33;43m\"\u001b[39;49m\u001b[33;43mencoding_errors\u001b[39;49m\u001b[33;43m\"\u001b[39;49m\u001b[43m,\u001b[49m\u001b[43m \u001b[49m\u001b[33;43m\"\u001b[39;49m\u001b[33;43mstrict\u001b[39;49m\u001b[33;43m\"\u001b[39;49m\u001b[43m)\u001b[49m\u001b[43m,\u001b[49m\n\u001b[32m   1888\u001b[39m \u001b[43m    \u001b[49m\u001b[43mstorage_options\u001b[49m\u001b[43m=\u001b[49m\u001b[38;5;28;43mself\u001b[39;49m\u001b[43m.\u001b[49m\u001b[43moptions\u001b[49m\u001b[43m.\u001b[49m\u001b[43mget\u001b[49m\u001b[43m(\u001b[49m\u001b[33;43m\"\u001b[39;49m\u001b[33;43mstorage_options\u001b[39;49m\u001b[33;43m\"\u001b[39;49m\u001b[43m,\u001b[49m\u001b[43m \u001b[49m\u001b[38;5;28;43;01mNone\u001b[39;49;00m\u001b[43m)\u001b[49m\u001b[43m,\u001b[49m\n\u001b[32m   1889\u001b[39m \u001b[43m\u001b[49m\u001b[43m)\u001b[49m\n\u001b[32m   1890\u001b[39m \u001b[38;5;28;01massert\u001b[39;00m \u001b[38;5;28mself\u001b[39m.handles \u001b[38;5;129;01mis\u001b[39;00m \u001b[38;5;129;01mnot\u001b[39;00m \u001b[38;5;28;01mNone\u001b[39;00m\n\u001b[32m   1891\u001b[39m f = \u001b[38;5;28mself\u001b[39m.handles.handle\n",
      "\u001b[36mFile \u001b[39m\u001b[32mc:\\Users\\punit\\Capstone Project\\SP500-Analysis-and-Prediction\\.venv\\Lib\\site-packages\\pandas\\io\\common.py:873\u001b[39m, in \u001b[36mget_handle\u001b[39m\u001b[34m(path_or_buf, mode, encoding, compression, memory_map, is_text, errors, storage_options)\u001b[39m\n\u001b[32m    868\u001b[39m \u001b[38;5;28;01melif\u001b[39;00m \u001b[38;5;28misinstance\u001b[39m(handle, \u001b[38;5;28mstr\u001b[39m):\n\u001b[32m    869\u001b[39m     \u001b[38;5;66;03m# Check whether the filename is to be opened in binary mode.\u001b[39;00m\n\u001b[32m    870\u001b[39m     \u001b[38;5;66;03m# Binary mode does not support 'encoding' and 'newline'.\u001b[39;00m\n\u001b[32m    871\u001b[39m     \u001b[38;5;28;01mif\u001b[39;00m ioargs.encoding \u001b[38;5;129;01mand\u001b[39;00m \u001b[33m\"\u001b[39m\u001b[33mb\u001b[39m\u001b[33m\"\u001b[39m \u001b[38;5;129;01mnot\u001b[39;00m \u001b[38;5;129;01min\u001b[39;00m ioargs.mode:\n\u001b[32m    872\u001b[39m         \u001b[38;5;66;03m# Encoding\u001b[39;00m\n\u001b[32m--> \u001b[39m\u001b[32m873\u001b[39m         handle = \u001b[38;5;28;43mopen\u001b[39;49m\u001b[43m(\u001b[49m\n\u001b[32m    874\u001b[39m \u001b[43m            \u001b[49m\u001b[43mhandle\u001b[49m\u001b[43m,\u001b[49m\n\u001b[32m    875\u001b[39m \u001b[43m            \u001b[49m\u001b[43mioargs\u001b[49m\u001b[43m.\u001b[49m\u001b[43mmode\u001b[49m\u001b[43m,\u001b[49m\n\u001b[32m    876\u001b[39m \u001b[43m            \u001b[49m\u001b[43mencoding\u001b[49m\u001b[43m=\u001b[49m\u001b[43mioargs\u001b[49m\u001b[43m.\u001b[49m\u001b[43mencoding\u001b[49m\u001b[43m,\u001b[49m\n\u001b[32m    877\u001b[39m \u001b[43m            \u001b[49m\u001b[43merrors\u001b[49m\u001b[43m=\u001b[49m\u001b[43merrors\u001b[49m\u001b[43m,\u001b[49m\n\u001b[32m    878\u001b[39m \u001b[43m            \u001b[49m\u001b[43mnewline\u001b[49m\u001b[43m=\u001b[49m\u001b[33;43m\"\u001b[39;49m\u001b[33;43m\"\u001b[39;49m\u001b[43m,\u001b[49m\n\u001b[32m    879\u001b[39m \u001b[43m        \u001b[49m\u001b[43m)\u001b[49m\n\u001b[32m    880\u001b[39m     \u001b[38;5;28;01melse\u001b[39;00m:\n\u001b[32m    881\u001b[39m         \u001b[38;5;66;03m# Binary mode\u001b[39;00m\n\u001b[32m    882\u001b[39m         handle = \u001b[38;5;28mopen\u001b[39m(handle, ioargs.mode)\n",
      "\u001b[31mFileNotFoundError\u001b[39m: [Errno 2] No such file or directory: '../data/raw/all_stocks_5y_data.csv'"
     ]
    }
   ],
   "source": [
    "# File paths (update if needed)\n",
    "stock_fp = '../data/raw/all_stocks_5y_data.csv'\n",
    "macro_fp = '../data/raw/macro_data.csv'\n",
    "sentiment_fp = '../data/raw/stock_news_sentiment.csv'\n",
    "\n",
    "# Load datasets\n",
    "stocks_df = pd.read_csv(stock_fp)\n",
    "macro_df = pd.read_csv(macro_fp)\n",
    "sentiment_df = pd.read_csv(sentiment_fp)\n",
    "\n",
    "print(\"Stock data shape:\", stocks_df.shape)\n",
    "print(\"Macro data shape:\", macro_df.shape)\n",
    "print(\"Sentiment data shape:\", sentiment_df.shape)"
   ]
  },
  {
   "cell_type": "markdown",
   "id": "9b05895e",
   "metadata": {},
   "source": [
    "## 3. Convert Date Columns to Datetime\n",
    "\n",
    "Convert the `date` column in all datasets to pandas datetime format for proper time-based analysis."
   ]
  },
  {
   "cell_type": "code",
   "execution_count": null,
   "id": "26370664",
   "metadata": {},
   "outputs": [],
   "source": [
    "# Convert 'date' columns to datetime\n",
    "stocks_df['date'] = pd.to_datetime(stocks_df['date'])\n",
    "macro_df['date'] = pd.to_datetime(macro_df['date'])\n",
    "sentiment_df['date'] = pd.to_datetime(sentiment_df['date'])\n",
    "\n",
    "# Check conversion\n",
    "print(stocks_df['date'].dtype, macro_df['date'].dtype, sentiment_df['date'].dtype)"
   ]
  },
  {
   "cell_type": "markdown",
   "id": "056bbade",
   "metadata": {},
   "source": [
    "## 4. Handle Missing Values\n",
    "\n",
    "- Forward-fill missing sentiment scores per `ticker` in `stock_news_sentiment.csv`.\n",
    "- If the first score for a ticker is missing, fill it with 0.\n",
    "- Handle other missing values as needed."
   ]
  },
  {
   "cell_type": "code",
   "execution_count": null,
   "id": "739497cc",
   "metadata": {},
   "outputs": [],
   "source": [
    "# Forward-fill sentiment scores per ticker, fill initial NaNs with 0\n",
    "sentiment_df = sentiment_df.sort_values(['ticker', 'date'])\n",
    "sentiment_df['sentiment_score'] = (\n",
    "    sentiment_df.groupby('ticker')['sentiment_score']\n",
    "    .apply(lambda x: x.ffill().fillna(0))\n",
    ")\n",
    "\n",
    "# Check for remaining missing values\n",
    "print(\"Missing sentiment scores:\", sentiment_df['sentiment_score'].isna().sum())\n",
    "\n",
    "# Check missing values in other datasets\n",
    "print(\"Stocks missing values:\\n\", stocks_df.isna().sum())\n",
    "print(\"Macro missing values:\\n\", macro_df.isna().sum())"
   ]
  },
  {
   "cell_type": "markdown",
   "id": "bec7476b",
   "metadata": {},
   "source": [
    "## 5. EDA on Stock Data\n",
    "\n",
    "- Display basic info (shape, columns, missing values).\n",
    "- Plot distribution of closing prices.\n",
    "- Time-series plots for `close` prices of selected tickers (AAPL, MSFT, AMZN).\n",
    "- Top 10 tickers by average trading volume.\n",
    "- Correlation heatmap for `open`, `high`, `low`, `close`, and `volume`."
   ]
  },
  {
   "cell_type": "code",
   "execution_count": null,
   "id": "7f562f81",
   "metadata": {},
   "outputs": [],
   "source": [
    "# Basic info\n",
    "print(\"Stocks DataFrame shape:\", stocks_df.shape)\n",
    "print(\"Columns:\", stocks_df.columns.tolist())\n",
    "print(\"Missing values:\\n\", stocks_df.isna().sum())\n",
    "\n",
    "# Distribution of closing prices\n",
    "plt.figure(figsize=(8,5))\n",
    "sns.histplot(stocks_df['close'], bins=50, kde=True)\n",
    "plt.title('Distribution of Closing Prices')\n",
    "plt.xlabel('Close Price')\n",
    "plt.ylabel('Frequency')\n",
    "plt.show()"
   ]
  },
  {
   "cell_type": "code",
   "execution_count": null,
   "id": "7b7b15a5",
   "metadata": {},
   "outputs": [],
   "source": [
    "# Time-series plot for selected tickers\n",
    "selected_tickers = ['AAPL', 'MSFT', 'AMZN']\n",
    "plt.figure(figsize=(12,6))\n",
    "for ticker in selected_tickers:\n",
    "    ticker_df = stocks_df[stocks_df['ticker'] == ticker]\n",
    "    plt.plot(ticker_df['date'], ticker_df['close'], label=ticker)\n",
    "plt.title('Close Price Over Time: AAPL, MSFT, AMZN')\n",
    "plt.xlabel('Date')\n",
    "plt.ylabel('Close Price')\n",
    "plt.legend()\n",
    "plt.show()"
   ]
  },
  {
   "cell_type": "code",
   "execution_count": null,
   "id": "25af4541",
   "metadata": {},
   "outputs": [],
   "source": [
    "# Top 10 tickers by average trading volume\n",
    "top_vol = (\n",
    "    stocks_df.groupby('ticker')['volume']\n",
    "    .mean()\n",
    "    .sort_values(ascending=False)\n",
    "    .head(10)\n",
    ")\n",
    "plt.figure(figsize=(10,5))\n",
    "sns.barplot(x=top_vol.index, y=top_vol.values, palette='viridis')\n",
    "plt.title('Top 10 Tickers by Average Trading Volume')\n",
    "plt.xlabel('Ticker')\n",
    "plt.ylabel('Average Volume')\n",
    "plt.show()"
   ]
  },
  {
   "cell_type": "code",
   "execution_count": null,
   "id": "73b43c2f",
   "metadata": {},
   "outputs": [],
   "source": [
    "# Correlation heatmap for price and volume columns\n",
    "corr_cols = ['open', 'high', 'low', 'close', 'volume']\n",
    "corr = stocks_df[corr_cols].corr()\n",
    "plt.figure(figsize=(6,5))\n",
    "sns.heatmap(corr, annot=True, cmap='coolwarm', fmt='.2f')\n",
    "plt.title('Correlation Heatmap: Stock Price & Volume')\n",
    "plt.show()"
   ]
  },
  {
   "cell_type": "markdown",
   "id": "976b93e7",
   "metadata": {},
   "source": [
    "## 6. EDA on Macroeconomic Data\n",
    "\n",
    "- Line plots for `GDP`, `CPI`, `unemployment`, and `interest_rate` over time.\n",
    "- Correlation matrix of all macro indicators.\n",
    "- Highlight trends or anomalies (e.g., inflation spikes)."
   ]
  },
  {
   "cell_type": "code",
   "execution_count": null,
   "id": "0195f259",
   "metadata": {},
   "outputs": [],
   "source": [
    "# Line plots for macro indicators\n",
    "macro_cols = ['GDP', 'CPI', 'unemployment', 'interest_rate']\n",
    "plt.figure(figsize=(14,8))\n",
    "for i, col in enumerate(macro_cols, 1):\n",
    "    plt.subplot(2,2,i)\n",
    "    plt.plot(macro_df['date'], macro_df[col])\n",
    "    plt.title(col)\n",
    "    plt.xlabel('Date')\n",
    "    plt.ylabel(col)\n",
    "plt.tight_layout()\n",
    "plt.show()"
   ]
  },
  {
   "cell_type": "code",
   "execution_count": null,
   "id": "ceda9b47",
   "metadata": {},
   "outputs": [],
   "source": [
    "# Correlation matrix of macro indicators\n",
    "macro_corr = macro_df[macro_cols].corr()\n",
    "plt.figure(figsize=(5,4))\n",
    "sns.heatmap(macro_corr, annot=True, cmap='Blues', fmt='.2f')\n",
    "plt.title('Correlation Matrix: Macro Indicators')\n",
    "plt.show()"
   ]
  },
  {
   "cell_type": "code",
   "execution_count": null,
   "id": "b5fef1b1",
   "metadata": {},
   "outputs": [],
   "source": [
    "# Highlighting inflation (CPI) spikes\n",
    "plt.figure(figsize=(10,5))\n",
    "plt.plot(macro_df['date'], macro_df['CPI'], color='orange')\n",
    "plt.title('CPI Over Time (Highlighting Inflation Trends)')\n",
    "plt.xlabel('Date')\n",
    "plt.ylabel('CPI')\n",
    "plt.show()"
   ]
  },
  {
   "cell_type": "markdown",
   "id": "db049530",
   "metadata": {},
   "source": [
    "## 7. EDA on Sentiment Data\n",
    "\n",
    "- Number of sentiment entries per ticker.\n",
    "- Line plot of average daily sentiment across all tickers.\n",
    "- Sentiment score distribution (histogram).\n",
    "- Analyze if certain tickers are consistently positive or negative after forward-filling."
   ]
  },
  {
   "cell_type": "code",
   "execution_count": null,
   "id": "b2009e3e",
   "metadata": {},
   "outputs": [],
   "source": [
    "# Number of sentiment entries per ticker\n",
    "sentiment_counts = sentiment_df['ticker'].value_counts().head(15)\n",
    "plt.figure(figsize=(10,5))\n",
    "sns.barplot(x=sentiment_counts.index, y=sentiment_counts.values, palette='mako')\n",
    "plt.title('Number of Sentiment Entries per Ticker (Top 15)')\n",
    "plt.xlabel('Ticker')\n",
    "plt.ylabel('Count')\n",
    "plt.show()"
   ]
  },
  {
   "cell_type": "code",
   "execution_count": null,
   "id": "3f6d4c27",
   "metadata": {},
   "outputs": [],
   "source": [
    "# Line plot of average daily sentiment across all tickers\n",
    "daily_sentiment = sentiment_df.groupby('date')['sentiment_score'].mean()\n",
    "plt.figure(figsize=(12,5))\n",
    "plt.plot(daily_sentiment.index, daily_sentiment.values)\n",
    "plt.title('Average Daily Sentiment Score Across All Tickers')\n",
    "plt.xlabel('Date')\n",
    "plt.ylabel('Average Sentiment Score')\n",
    "plt.show()"
   ]
  },
  {
   "cell_type": "code",
   "execution_count": null,
   "id": "13e58966",
   "metadata": {},
   "outputs": [],
   "source": [
    "# Sentiment score distribution\n",
    "plt.figure(figsize=(8,5))\n",
    "sns.histplot(sentiment_df['sentiment_score'], bins=40, kde=True, color='purple')\n",
    "plt.title('Distribution of Sentiment Scores')\n",
    "plt.xlabel('Sentiment Score')\n",
    "plt.ylabel('Frequency')\n",
    "plt.show()"
   ]
  },
  {
   "cell_type": "code",
   "execution_count": null,
   "id": "f062dc30",
   "metadata": {},
   "outputs": [],
   "source": [
    "# Analyze consistently positive/negative tickers after forward-filling\n",
    "ticker_sentiment_mean = sentiment_df.groupby('ticker')['sentiment_score'].mean().sort_values()\n",
    "print(\"Top 5 consistently negative tickers:\\n\", ticker_sentiment_mean.head(5))\n",
    "print(\"\\nTop 5 consistently positive tickers:\\n\", ticker_sentiment_mean.tail(5))"
   ]
  },
  {
   "cell_type": "markdown",
   "id": "3c5a8f1a",
   "metadata": {},
   "source": [
    "## 8. Merge Datasets (Optional)\n",
    "\n",
    "Join stock data with sentiment and macro data on `date` (and `ticker` where applicable) to create a combined DataFrame for further analysis."
   ]
  },
  {
   "cell_type": "code",
   "execution_count": null,
   "id": "99620828",
   "metadata": {},
   "outputs": [],
   "source": [
    "# Merge stocks with sentiment on date and ticker\n",
    "merged_df = pd.merge(\n",
    "    stocks_df, sentiment_df[['date', 'ticker', 'sentiment_score']],\n",
    "    on=['date', 'ticker'], how='left'\n",
    ")\n",
    "\n",
    "# Merge with macro data on date\n",
    "merged_df = pd.merge(\n",
    "    merged_df, macro_df, on='date', how='left'\n",
    ")\n",
    "\n",
    "print(\"Merged DataFrame shape:\", merged_df.shape)\n",
    "merged_df.head()"
   ]
  },
  {
   "cell_type": "markdown",
   "id": "a8818515",
   "metadata": {},
   "source": [
    "## 9. Combined Visualizations\n",
    "\n",
    "- Plot closing price, sentiment score, and interest rate over time for a selected stock.\n",
    "- Create a correlation heatmap across all combined features."
   ]
  },
  {
   "cell_type": "code",
   "execution_count": null,
   "id": "63939794",
   "metadata": {},
   "outputs": [],
   "source": [
    "# Example: Plot for AAPL\n",
    "aapl_df = merged_df[merged_df['ticker'] == 'AAPL'].sort_values('date')\n",
    "\n",
    "fig, ax1 = plt.subplots(figsize=(14,6))\n",
    "\n",
    "ax1.plot(aapl_df['date'], aapl_df['close'], color='blue', label='Close Price')\n",
    "ax1.set_ylabel('Close Price', color='blue')\n",
    "ax1.tick_params(axis='y', labelcolor='blue')\n",
    "\n",
    "ax2 = ax1.twinx()\n",
    "ax2.plot(aapl_df['date'], aapl_df['sentiment_score'], color='green', alpha=0.6, label='Sentiment Score')\n",
    "ax2.set_ylabel('Sentiment Score', color='green')\n",
    "ax2.tick_params(axis='y', labelcolor='green')\n",
    "\n",
    "ax3 = ax1.twinx()\n",
    "ax3.spines['right'].set_position(('outward', 60))\n",
    "ax3.plot(aapl_df['date'], aapl_df['interest_rate'], color='red', alpha=0.5, label='Interest Rate')\n",
    "ax3.set_ylabel('Interest Rate', color='red')\n",
    "ax3.tick_params(axis='y', labelcolor='red')\n",
    "\n",
    "fig.suptitle('AAPL: Close Price, Sentiment Score, and Interest Rate Over Time')\n",
    "fig.tight_layout()\n",
    "plt.show()"
   ]
  },
  {
   "cell_type": "code",
   "execution_count": null,
   "id": "7b8045c9",
   "metadata": {},
   "outputs": [],
   "source": [
    "# Correlation heatmap across combined features\n",
    "combined_cols = ['open', 'high', 'low', 'close', 'volume', 'sentiment_score', 'GDP', 'CPI', 'unemployment', 'interest_rate']\n",
    "combined_corr = merged_df[combined_cols].corr()\n",
    "plt.figure(figsize=(10,8))\n",
    "sns.heatmap(combined_corr, annot=True, cmap='Spectral', fmt='.2f')\n",
    "plt.title('Correlation Heatmap: Combined Features')\n",
    "plt.show()"
   ]
  }
 ],
 "metadata": {
  "kernelspec": {
   "display_name": ".venv",
   "language": "python",
   "name": "python3"
  },
  "language_info": {
   "codemirror_mode": {
    "name": "ipython",
    "version": 3
   },
   "file_extension": ".py",
   "mimetype": "text/x-python",
   "name": "python",
   "nbconvert_exporter": "python",
   "pygments_lexer": "ipython3",
   "version": "3.13.2"
  }
 },
 "nbformat": 4,
 "nbformat_minor": 5
}
